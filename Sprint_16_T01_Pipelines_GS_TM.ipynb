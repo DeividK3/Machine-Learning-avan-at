{
 "cells": [
  {
   "cell_type": "markdown",
   "metadata": {},
   "source": [
    "# Tasca: Pipelines, Grid Search i Text Mining"
   ]
  },
  {
   "cell_type": "markdown",
   "metadata": {},
   "source": [
    "### Càrrega de llibreries"
   ]
  },
  {
   "cell_type": "code",
   "execution_count": 69,
   "metadata": {},
   "outputs": [],
   "source": [
    "import pandas as pd\n",
    "import numpy as np\n",
    "\n",
    "import matplotlib.pyplot as plt\n",
    "%matplotlib inline\n",
    "\n",
    "from sklearn import metrics\n",
    "from sklearn.metrics import mean_squared_error\n",
    "from sklearn.preprocessing import StandardScaler\n",
    "from sklearn.ensemble import RandomForestClassifier\n",
    "from sklearn.model_selection import train_test_split\n",
    "from sklearn.model_selection import GridSearchCV\n",
    "from sklearn.model_selection import RandomizedSearchCV \n",
    "from sklearn.feature_extraction.text import CountVectorizer, TfidfVectorizer\n",
    "from sklearn.naive_bayes import MultinomialNB\n",
    "\n",
    "from imblearn.pipeline import Pipeline\n",
    "from imblearn.over_sampling import SMOTE\n",
    "\n",
    "import nltk\n",
    "from nltk.tokenize import sent_tokenize, word_tokenize, RegexpTokenizer\n",
    "from nltk.probability import FreqDist\n",
    "from nltk.corpus import stopwords\n",
    "from nltk.stem.wordnet import WordNetLemmatizer\n",
    "from nltk.stem.porter import PorterStemmer\n",
    "\n",
    "pd.set_option('display.max_columns', None)"
   ]
  },
  {
   "cell_type": "markdown",
   "metadata": {},
   "source": [
    "### Lectura de la base de dades"
   ]
  },
  {
   "cell_type": "code",
   "execution_count": 3,
   "metadata": {},
   "outputs": [
    {
     "data": {
      "text/html": [
       "<div>\n",
       "<style scoped>\n",
       "    .dataframe tbody tr th:only-of-type {\n",
       "        vertical-align: middle;\n",
       "    }\n",
       "\n",
       "    .dataframe tbody tr th {\n",
       "        vertical-align: top;\n",
       "    }\n",
       "\n",
       "    .dataframe thead th {\n",
       "        text-align: right;\n",
       "    }\n",
       "</style>\n",
       "<table border=\"1\" class=\"dataframe\">\n",
       "  <thead>\n",
       "    <tr style=\"text-align: right;\">\n",
       "      <th></th>\n",
       "      <th>Pregnancies</th>\n",
       "      <th>Glucose</th>\n",
       "      <th>BloodPressure</th>\n",
       "      <th>SkinThickness</th>\n",
       "      <th>Insulin</th>\n",
       "      <th>BMI</th>\n",
       "      <th>DiabetesPedigreeFunction</th>\n",
       "      <th>Age</th>\n",
       "      <th>Outcome</th>\n",
       "    </tr>\n",
       "  </thead>\n",
       "  <tbody>\n",
       "    <tr>\n",
       "      <th>0</th>\n",
       "      <td>6</td>\n",
       "      <td>148</td>\n",
       "      <td>72</td>\n",
       "      <td>35</td>\n",
       "      <td>0</td>\n",
       "      <td>33.6</td>\n",
       "      <td>0.627</td>\n",
       "      <td>50</td>\n",
       "      <td>1</td>\n",
       "    </tr>\n",
       "    <tr>\n",
       "      <th>1</th>\n",
       "      <td>1</td>\n",
       "      <td>85</td>\n",
       "      <td>66</td>\n",
       "      <td>29</td>\n",
       "      <td>0</td>\n",
       "      <td>26.6</td>\n",
       "      <td>0.351</td>\n",
       "      <td>31</td>\n",
       "      <td>0</td>\n",
       "    </tr>\n",
       "    <tr>\n",
       "      <th>2</th>\n",
       "      <td>8</td>\n",
       "      <td>183</td>\n",
       "      <td>64</td>\n",
       "      <td>0</td>\n",
       "      <td>0</td>\n",
       "      <td>23.3</td>\n",
       "      <td>0.672</td>\n",
       "      <td>32</td>\n",
       "      <td>1</td>\n",
       "    </tr>\n",
       "    <tr>\n",
       "      <th>3</th>\n",
       "      <td>1</td>\n",
       "      <td>89</td>\n",
       "      <td>66</td>\n",
       "      <td>23</td>\n",
       "      <td>94</td>\n",
       "      <td>28.1</td>\n",
       "      <td>0.167</td>\n",
       "      <td>21</td>\n",
       "      <td>0</td>\n",
       "    </tr>\n",
       "    <tr>\n",
       "      <th>4</th>\n",
       "      <td>0</td>\n",
       "      <td>137</td>\n",
       "      <td>40</td>\n",
       "      <td>35</td>\n",
       "      <td>168</td>\n",
       "      <td>43.1</td>\n",
       "      <td>2.288</td>\n",
       "      <td>33</td>\n",
       "      <td>1</td>\n",
       "    </tr>\n",
       "  </tbody>\n",
       "</table>\n",
       "</div>"
      ],
      "text/plain": [
       "   Pregnancies  Glucose  BloodPressure  SkinThickness  Insulin   BMI  \\\n",
       "0            6      148             72             35        0  33.6   \n",
       "1            1       85             66             29        0  26.6   \n",
       "2            8      183             64              0        0  23.3   \n",
       "3            1       89             66             23       94  28.1   \n",
       "4            0      137             40             35      168  43.1   \n",
       "\n",
       "   DiabetesPedigreeFunction  Age  Outcome  \n",
       "0                     0.627   50        1  \n",
       "1                     0.351   31        0  \n",
       "2                     0.672   32        1  \n",
       "3                     0.167   21        0  \n",
       "4                     2.288   33        1  "
      ]
     },
     "execution_count": 3,
     "metadata": {},
     "output_type": "execute_result"
    }
   ],
   "source": [
    "dfl = pd.read_csv('diabetes.txt')\n",
    "dfl.head()"
   ]
  },
  {
   "cell_type": "code",
   "execution_count": 4,
   "metadata": {},
   "outputs": [
    {
     "name": "stdout",
     "output_type": "stream",
     "text": [
      "<class 'pandas.core.frame.DataFrame'>\n",
      "RangeIndex: 768 entries, 0 to 767\n",
      "Data columns (total 9 columns):\n",
      " #   Column                    Non-Null Count  Dtype  \n",
      "---  ------                    --------------  -----  \n",
      " 0   Pregnancies               768 non-null    int64  \n",
      " 1   Glucose                   768 non-null    int64  \n",
      " 2   BloodPressure             768 non-null    int64  \n",
      " 3   SkinThickness             768 non-null    int64  \n",
      " 4   Insulin                   768 non-null    int64  \n",
      " 5   BMI                       768 non-null    float64\n",
      " 6   DiabetesPedigreeFunction  768 non-null    float64\n",
      " 7   Age                       768 non-null    int64  \n",
      " 8   Outcome                   768 non-null    int64  \n",
      "dtypes: float64(2), int64(7)\n",
      "memory usage: 54.1 KB\n"
     ]
    }
   ],
   "source": [
    "# Informació de la base de dades: tipus de variables i compteig de nuls\n",
    "dfl.info()"
   ]
  },
  {
   "cell_type": "code",
   "execution_count": 8,
   "metadata": {},
   "outputs": [
    {
     "data": {
      "text/plain": [
       "0    500\n",
       "1    268\n",
       "Name: Outcome, dtype: int64"
      ]
     },
     "execution_count": 8,
     "metadata": {},
     "output_type": "execute_result"
    }
   ],
   "source": [
    "# Compteig de la variable 'Outcome' (diabetes)\n",
    "dfl.Outcome.value_counts()"
   ]
  },
  {
   "cell_type": "markdown",
   "metadata": {},
   "source": [
    "<span style='color:blue;font-size:16px'> Es decideix aplicar un SMOTE al pipeline per obtenir un nou dataframe amb els mateixos positius que negatius. </span>"
   ]
  },
  {
   "cell_type": "markdown",
   "metadata": {},
   "source": [
    "## Exercici 1\n",
    "__Agafa el conjunt de dades que vulguis i realitza un pipeline i un gridsearch aplicant l'algorisme de Random Forest.__"
   ]
  },
  {
   "cell_type": "markdown",
   "metadata": {},
   "source": [
    "<span style='color:blue;font-size:16px'> L'objectiu es crear un model de classificació Random Forest per l'assignació de diabetes (variable objectiu) de diferents dones en base a uns atributs. </span>"
   ]
  },
  {
   "cell_type": "markdown",
   "metadata": {},
   "source": [
    "<span style='color:blue;font-size:18px'> <b> Selecció de variables explicatives i variable objectiu </b> </span>"
   ]
  },
  {
   "cell_type": "code",
   "execution_count": 11,
   "metadata": {},
   "outputs": [],
   "source": [
    "# Variable objectiu\n",
    "y = dfl['Outcome']\n",
    "# Predictors\n",
    "X = dfl.drop(['Outcome'], axis = 1)\n",
    "# LLista amb el nom dels predictors\n",
    "X_list = list(X.columns)"
   ]
  },
  {
   "cell_type": "markdown",
   "metadata": {},
   "source": [
    "<span style='color:blue;font-size:18px'> <b> Mostra d'entrenament i mostra de prova </b> </span>"
   ]
  },
  {
   "cell_type": "code",
   "execution_count": 22,
   "metadata": {},
   "outputs": [
    {
     "name": "stdout",
     "output_type": "stream",
     "text": [
      "Dimensions de la mostra d'entrenament:  (614, 8)\n",
      "Dimensions de la mostra de prova:  (154, 8)\n"
     ]
    }
   ],
   "source": [
    "X_train, X_test, y_train, y_test = train_test_split(X, y, test_size = 0.20, random_state = 1234)\n",
    "print(\"Dimensions de la mostra d'entrenament: \", X_train.shape)\n",
    "print('Dimensions de la mostra de prova: ', X_test.shape)"
   ]
  },
  {
   "cell_type": "markdown",
   "metadata": {},
   "source": [
    "<span style='color:blue;font-size:18px'> <b> Definició del Pipeline </b> </span>"
   ]
  },
  {
   "cell_type": "code",
   "execution_count": 31,
   "metadata": {},
   "outputs": [],
   "source": [
    "\"\"\"\n",
    "Pas 1: Preprocessament - Estandarització\n",
    "Pas 2: Aplicació de SMOTE\n",
    "Pas 3: Entrenament amb el model Random Forest\n",
    "\"\"\"\n",
    "RF_pipeline = Pipeline([('preprocessament', StandardScaler()), \n",
    "                        ('smote', SMOTE(n_jobs=-1, random_state=3)),\n",
    "                        ('random_forest', RandomForestClassifier(random_state=3))\n",
    "                        ])"
   ]
  },
  {
   "cell_type": "markdown",
   "metadata": {},
   "source": [
    "<span style='color:blue;font-size:18px'> <b> Gridsearch per l'afinació dels hiperparàmetres del model </b> </span>"
   ]
  },
  {
   "cell_type": "code",
   "execution_count": 34,
   "metadata": {},
   "outputs": [
    {
     "name": "stdout",
     "output_type": "stream",
     "text": [
      "# Afinació dels hiper-paràmetres de f1\n",
      "\n",
      "Millors paràmetres trobats:\n",
      "\n",
      "{'random_forest__criterion': 'gini', 'random_forest__max_features': 'log2', 'random_forest__n_estimators': 150}\n"
     ]
    }
   ],
   "source": [
    "# Selecció de diversos paràmetres i valors\n",
    "tuned_parameters = {\n",
    "    'random_forest__n_estimators': [50,100,150],\n",
    "    'random_forest__criterion': ['gini','entropy'],\n",
    "    'random_forest__max_features': ['auto', 'sqrt', 'log2'],\n",
    "}\n",
    "\n",
    "# Selecció de la mètrica a optimitzar\n",
    "score='f1'\n",
    "\n",
    "print(\"# Afinació dels hiper-paràmetres de %s\" % score)\n",
    "print()\n",
    "clf_RF = GridSearchCV(estimator = RF_pipeline, param_grid = tuned_parameters, cv=10, scoring='%s' % score, n_jobs= -1)\n",
    "clf_RF.fit(X_train, y_train)\n",
    "    \n",
    "print(\"Millors paràmetres trobats:\")\n",
    "print()\n",
    "print(clf_RF.best_params_)"
   ]
  },
  {
   "cell_type": "markdown",
   "metadata": {},
   "source": [
    "<span style='color:blue;font-size:18px'> <b> Avaluació del model </b> </span>"
   ]
  },
  {
   "cell_type": "code",
   "execution_count": 36,
   "metadata": {},
   "outputs": [
    {
     "name": "stdout",
     "output_type": "stream",
     "text": [
      "              precision    recall  f1-score   support\n",
      "\n",
      "           0       0.79      0.82      0.80        99\n",
      "           1       0.65      0.60      0.62        55\n",
      "\n",
      "    accuracy                           0.74       154\n",
      "   macro avg       0.72      0.71      0.71       154\n",
      "weighted avg       0.74      0.74      0.74       154\n",
      "\n",
      "Accuracy score:  0.7402597402597403\n",
      "AUC:  0.7090909090909091\n"
     ]
    }
   ],
   "source": [
    "pred_test_RF = clf_RF.predict(X_test)\n",
    "print(metrics.classification_report(y_test, pred_test_RF))\n",
    "print(\"Accuracy score: \", metrics.accuracy_score(y_test, pred_test_RF))\n",
    "print(\"AUC: \", metrics.roc_auc_score(y_test, pred_test_RF))"
   ]
  },
  {
   "cell_type": "markdown",
   "metadata": {},
   "source": [
    "<span style='color:blue;font-size:16px'> Es tracta d'un model que no classifica gaire bé. </span>"
   ]
  },
  {
   "cell_type": "markdown",
   "metadata": {},
   "source": [
    "## Exercici 2\n",
    "__Agafa un text en anglès que vulguis, i calcula'n la freqüència de les paraules.__"
   ]
  },
  {
   "cell_type": "code",
   "execution_count": 52,
   "metadata": {},
   "outputs": [],
   "source": [
    "# Separació del text per paraules i simbols\n",
    "text = \"\"\"Statistics is the discipline that concerns the collection, organization, analysis, interpretation, and presentation of data.\n",
    "        In applying statistics to a scientific, industrial, or social problem, it is conventional to begin with a statistical population \n",
    "        or a statistical model to be studied. Populations can be diverse groups of people or objects such as 'all people living in a country' or 'every atom composing a crystal'. \n",
    "        Statistics deals with every aspect of data, including the planning of data collection in terms of the design of surveys and experiments.\"\"\"\n",
    "token_text = word_tokenize(text)"
   ]
  },
  {
   "cell_type": "code",
   "execution_count": 53,
   "metadata": {},
   "outputs": [
    {
     "name": "stdout",
     "output_type": "stream",
     "text": [
      "['Statistics', 'is', 'the', 'discipline', 'that', 'concerns', 'the', 'collection', ',', 'organization', ',', 'analysis', ',', 'interpretation', ',', 'and', 'presentation', 'of', 'data', '.']\n"
     ]
    }
   ],
   "source": [
    "# Primeres 20 paraules\n",
    "print(token_text[:20])"
   ]
  },
  {
   "cell_type": "code",
   "execution_count": 54,
   "metadata": {},
   "outputs": [
    {
     "name": "stdout",
     "output_type": "stream",
     "text": [
      "<FreqDist with 61 samples and 100 outcomes>\n"
     ]
    }
   ],
   "source": [
    "# Indica elnombre de paraules úniques i el total de paraules\n",
    "fdist = FreqDist(token_text)\n",
    "print(fdist)"
   ]
  },
  {
   "cell_type": "code",
   "execution_count": 55,
   "metadata": {},
   "outputs": [
    {
     "data": {
      "text/plain": [
       "[(',', 8), ('of', 6), ('a', 5), ('the', 4), ('.', 4)]"
      ]
     },
     "execution_count": 55,
     "metadata": {},
     "output_type": "execute_result"
    }
   ],
   "source": [
    "# Top 5 paraules més repetides\n",
    "fdist.most_common(5)"
   ]
  },
  {
   "cell_type": "code",
   "execution_count": 56,
   "metadata": {},
   "outputs": [
    {
     "data": {
      "image/png": "[encoded data removed]",
      "text/plain": [
       "<Figure size 720x432 with 1 Axes>"
      ]
     },
     "metadata": {
      "needs_background": "light"
     },
     "output_type": "display_data"
    }
   ],
   "source": [
    "# Gràfic de distribució de freqüència\n",
    "plt.figure(figsize=(10,6))\n",
    "fdist.plot(30,cumulative=False)\n",
    "plt.show()"
   ]
  },
  {
   "cell_type": "markdown",
   "metadata": {},
   "source": [
    "<span style='color:blue;font-size:16px'> La paraula amb sentit que més apareix és 'data' (3 cops), seguida de 'Statistics' (2 cops), etc. </span>"
   ]
  },
  {
   "cell_type": "markdown",
   "metadata": {},
   "source": [
    "## Exercici 3\n",
    "__Treu les stopwords i realitza stemming al teu conjunt de dades.__"
   ]
  },
  {
   "cell_type": "code",
   "execution_count": 57,
   "metadata": {},
   "outputs": [
    {
     "name": "stdout",
     "output_type": "stream",
     "text": [
      "{'again', 'an', 've', 'on', \"that'll\", 'above', 'between', 'too', \"weren't\", 'what', 'then', 'further', 'most', 're', 'yours', 'these', 'some', 'aren', 'am', 's', 'itself', 'but', 'through', 'shouldn', 'which', 'in', 'have', 'them', 'under', 'other', 'weren', 'below', 'his', 'won', 'do', \"hasn't\", \"couldn't\", 'out', 'to', 'this', \"mightn't\", 'its', 'y', 'm', 'him', \"she's\", 'is', 'it', 'don', 'how', 'because', 'just', \"needn't\", 'when', 'at', \"it's\", 'been', 'ma', 'had', 'own', 'has', 'does', 'if', 'be', 'once', 'our', 'why', 'no', 'hadn', 'as', 'during', 'few', 'haven', \"didn't\", 'a', 'my', 'each', 'until', 'any', 'me', \"you'd\", 'wasn', \"won't\", 'ours', 'or', 'will', 'those', \"you've\", 'the', 'ourselves', 'all', 'shan', 'isn', 'myself', 'more', 'very', \"don't\", 'off', 'wouldn', 'by', 'same', 'i', 'there', 'only', 'while', 'before', 'your', 'with', 'over', 'both', 'mightn', \"hadn't\", 'themselves', 'for', 'about', 'should', 'yourself', 'he', 'doing', \"shouldn't\", \"wasn't\", \"isn't\", 'mustn', 'ain', \"shan't\", 'needn', 'yourselves', 'now', 'we', 'that', 'than', \"you'll\", \"should've\", 't', 'into', 'she', 'being', 'so', 'they', \"wouldn't\", 'not', 'o', 'who', 'whom', 'such', 'll', 'couldn', \"doesn't\", 'theirs', 'of', 'against', 'their', 'from', 'here', 'are', 'down', 'd', 'hasn', 'where', 'didn', 'were', 'having', 'up', \"aren't\", \"you're\", 'can', 'nor', 'after', \"haven't\", \"mustn't\", 'hers', 'you', 'herself', 'was', 'himself', 'did', 'and', 'doesn', 'her'}\n"
     ]
    }
   ],
   "source": [
    "# Llista de paraules buides de l'anglès\n",
    "stop_words = set(stopwords.words(\"english\"))\n",
    "print(stop_words)"
   ]
  },
  {
   "cell_type": "code",
   "execution_count": 58,
   "metadata": {},
   "outputs": [
    {
     "name": "stdout",
     "output_type": "stream",
     "text": [
      "Text tokenitzat sense stopwords:  ['Statistics', 'discipline', 'concerns', 'collection', ',', 'organization', ',', 'analysis', ',', 'interpretation', ',', 'presentation', 'data', '.', 'In', 'applying', 'statistics', 'scientific', ',', 'industrial', ',', 'social', 'problem', ',', 'conventional', 'begin', 'statistical', 'population', 'statistical', 'model', 'studied', '.', 'Populations', 'diverse', 'groups', 'people', 'objects', \"'all\", 'people', 'living', 'country', \"'\", \"'every\", 'atom', 'composing', 'crystal', \"'\", '.', 'Statistics', 'deals', 'every', 'aspect', 'data', ',', 'including', 'planning', 'data', 'collection', 'terms', 'design', 'surveys', 'experiments', '.']\n"
     ]
    }
   ],
   "source": [
    "# S'eliminen les stopwords del text\n",
    "text_sw=[]\n",
    "for w in token_text:\n",
    "    if w not in stop_words:\n",
    "        text_sw.append(w)\n",
    "print(\"Text tokenitzat sense stopwords: \", text_sw)"
   ]
  },
  {
   "cell_type": "code",
   "execution_count": 59,
   "metadata": {},
   "outputs": [
    {
     "name": "stdout",
     "output_type": "stream",
     "text": [
      "Filtered Sentence: ['Statistics', 'discipline', 'concerns', 'collection', ',', 'organization', ',', 'analysis', ',', 'interpretation', ',', 'presentation', 'data', '.', 'In', 'applying', 'statistics', 'scientific', ',', 'industrial', ',', 'social', 'problem', ',', 'conventional', 'begin', 'statistical', 'population', 'statistical', 'model', 'studied', '.', 'Populations', 'diverse', 'groups', 'people', 'objects', \"'all\", 'people', 'living', 'country', \"'\", \"'every\", 'atom', 'composing', 'crystal', \"'\", '.', 'Statistics', 'deals', 'every', 'aspect', 'data', ',', 'including', 'planning', 'data', 'collection', 'terms', 'design', 'surveys', 'experiments', '.']\n",
      "\n",
      "Stemmed Sentence: ['statist', 'disciplin', 'concern', 'collect', ',', 'organ', ',', 'analysi', ',', 'interpret', ',', 'present', 'data', '.', 'In', 'appli', 'statist', 'scientif', ',', 'industri', ',', 'social', 'problem', ',', 'convent', 'begin', 'statist', 'popul', 'statist', 'model', 'studi', '.', 'popul', 'divers', 'group', 'peopl', 'object', \"'all\", 'peopl', 'live', 'countri', \"'\", \"'everi\", 'atom', 'compos', 'crystal', \"'\", '.', 'statist', 'deal', 'everi', 'aspect', 'data', ',', 'includ', 'plan', 'data', 'collect', 'term', 'design', 'survey', 'experi', '.']\n"
     ]
    }
   ],
   "source": [
    "# Aplicació del Stemming\n",
    "ps = PorterStemmer()\n",
    "\n",
    "stemmed_words=[]\n",
    "for w in text_sw:\n",
    "    stemmed_words.append(ps.stem(w))\n",
    "\n",
    "print(\"Filtered Sentence:\", text_sw)\n",
    "print()\n",
    "print(\"Stemmed Sentence:\", stemmed_words)"
   ]
  },
  {
   "cell_type": "markdown",
   "metadata": {},
   "source": [
    "## Exercici 4\n",
    "__Realitza sentiment analysis al teu conjunt de dades.__"
   ]
  },
  {
   "cell_type": "markdown",
   "metadata": {},
   "source": [
    "<span style='color:blue;font-size:16px'> Per realitzar aquest exercici es treballa amb una nova base de dades </span>"
   ]
  },
  {
   "cell_type": "markdown",
   "metadata": {},
   "source": [
    "<span style='color:blue;font-size:18px'> <b> Lectura de la base de dades </b> </span>"
   ]
  },
  {
   "cell_type": "code",
   "execution_count": 62,
   "metadata": {},
   "outputs": [
    {
     "data": {
      "text/html": [
       "<div>\n",
       "<style scoped>\n",
       "    .dataframe tbody tr th:only-of-type {\n",
       "        vertical-align: middle;\n",
       "    }\n",
       "\n",
       "    .dataframe tbody tr th {\n",
       "        vertical-align: top;\n",
       "    }\n",
       "\n",
       "    .dataframe thead th {\n",
       "        text-align: right;\n",
       "    }\n",
       "</style>\n",
       "<table border=\"1\" class=\"dataframe\">\n",
       "  <thead>\n",
       "    <tr style=\"text-align: right;\">\n",
       "      <th></th>\n",
       "      <th>Review Title</th>\n",
       "      <th>Review Text</th>\n",
       "      <th>wordcount</th>\n",
       "      <th>titleSentiment</th>\n",
       "      <th>textSentiment</th>\n",
       "      <th>Star Rating</th>\n",
       "      <th>sentimentValue</th>\n",
       "    </tr>\n",
       "  </thead>\n",
       "  <tbody>\n",
       "    <tr>\n",
       "      <th>0</th>\n",
       "      <td>Sin conexión</td>\n",
       "      <td>Hola desde hace algo más de un mes me pone sin...</td>\n",
       "      <td>23</td>\n",
       "      <td>negative</td>\n",
       "      <td>negative</td>\n",
       "      <td>1</td>\n",
       "      <td>-0.486389</td>\n",
       "    </tr>\n",
       "    <tr>\n",
       "      <th>1</th>\n",
       "      <td>faltan cosas</td>\n",
       "      <td>Han mejorado la apariencia pero no</td>\n",
       "      <td>20</td>\n",
       "      <td>negative</td>\n",
       "      <td>negative</td>\n",
       "      <td>1</td>\n",
       "      <td>-0.586187</td>\n",
       "    </tr>\n",
       "    <tr>\n",
       "      <th>2</th>\n",
       "      <td>Es muy buena lo recomiendo</td>\n",
       "      <td>Andres e puto amoooo</td>\n",
       "      <td>4</td>\n",
       "      <td>NaN</td>\n",
       "      <td>negative</td>\n",
       "      <td>1</td>\n",
       "      <td>-0.602240</td>\n",
       "    </tr>\n",
       "    <tr>\n",
       "      <th>3</th>\n",
       "      <td>Version antigua</td>\n",
       "      <td>Me gustana mas la version anterior esta es mas...</td>\n",
       "      <td>17</td>\n",
       "      <td>NaN</td>\n",
       "      <td>negative</td>\n",
       "      <td>1</td>\n",
       "      <td>-0.616271</td>\n",
       "    </tr>\n",
       "    <tr>\n",
       "      <th>4</th>\n",
       "      <td>Esta bien</td>\n",
       "      <td>Sin ser la biblia.... Esta bien</td>\n",
       "      <td>6</td>\n",
       "      <td>negative</td>\n",
       "      <td>negative</td>\n",
       "      <td>1</td>\n",
       "      <td>-0.651784</td>\n",
       "    </tr>\n",
       "  </tbody>\n",
       "</table>\n",
       "</div>"
      ],
      "text/plain": [
       "                 Review Title  \\\n",
       "0                Sin conexión   \n",
       "1                faltan cosas   \n",
       "2  Es muy buena lo recomiendo   \n",
       "3             Version antigua   \n",
       "4                   Esta bien   \n",
       "\n",
       "                                         Review Text  wordcount  \\\n",
       "0  Hola desde hace algo más de un mes me pone sin...         23   \n",
       "1                 Han mejorado la apariencia pero no         20   \n",
       "2                               Andres e puto amoooo          4   \n",
       "3  Me gustana mas la version anterior esta es mas...         17   \n",
       "4                    Sin ser la biblia.... Esta bien          6   \n",
       "\n",
       "  titleSentiment textSentiment  Star Rating  sentimentValue  \n",
       "0       negative      negative            1       -0.486389  \n",
       "1       negative      negative            1       -0.586187  \n",
       "2            NaN      negative            1       -0.602240  \n",
       "3            NaN      negative            1       -0.616271  \n",
       "4       negative      negative            1       -0.651784  "
      ]
     },
     "execution_count": 62,
     "metadata": {},
     "output_type": "execute_result"
    }
   ],
   "source": [
    "sent_df = pd.read_csv('reviews_sentiment.csv', sep=';')\n",
    "sent_df.head()"
   ]
  },
  {
   "cell_type": "markdown",
   "metadata": {},
   "source": [
    "<span style='color:blue;font-size:18px'> <b> Descriptius i gràfics </b> </span>"
   ]
  },
  {
   "cell_type": "code",
   "execution_count": 63,
   "metadata": {},
   "outputs": [
    {
     "name": "stdout",
     "output_type": "stream",
     "text": [
      "<class 'pandas.core.frame.DataFrame'>\n",
      "RangeIndex: 257 entries, 0 to 256\n",
      "Data columns (total 7 columns):\n",
      " #   Column          Non-Null Count  Dtype  \n",
      "---  ------          --------------  -----  \n",
      " 0   Review Title    257 non-null    object \n",
      " 1   Review Text     257 non-null    object \n",
      " 2   wordcount       257 non-null    int64  \n",
      " 3   titleSentiment  231 non-null    object \n",
      " 4   textSentiment   257 non-null    object \n",
      " 5   Star Rating     257 non-null    int64  \n",
      " 6   sentimentValue  257 non-null    float64\n",
      "dtypes: float64(1), int64(2), object(4)\n",
      "memory usage: 14.2+ KB\n"
     ]
    }
   ],
   "source": [
    "# Información sobre la base de datos\n",
    "sent_df.info()"
   ]
  },
  {
   "cell_type": "code",
   "execution_count": 65,
   "metadata": {},
   "outputs": [
    {
     "data": {
      "text/plain": [
       "5    88\n",
       "3    78\n",
       "1    37\n",
       "4    30\n",
       "2    24\n",
       "Name: Star Rating, dtype: int64"
      ]
     },
     "execution_count": 65,
     "metadata": {},
     "output_type": "execute_result"
    }
   ],
   "source": [
    "# Compteig de 'Star Rating'\n",
    "sent_df['Star Rating'].value_counts()"
   ]
  },
  {
   "cell_type": "markdown",
   "metadata": {},
   "source": [
    "<span style='color:blue;font-size:16px'> Es té cinc puntuacions possibles. La més baixa és 1 i la més alta és 5 </span>"
   ]
  },
  {
   "cell_type": "code",
   "execution_count": 67,
   "metadata": {},
   "outputs": [
    {
     "data": {
      "image/png": "[encoded data removed]",
      "text/plain": [
       "<Figure size 432x288 with 1 Axes>"
      ]
     },
     "metadata": {
      "needs_background": "light"
     },
     "output_type": "display_data"
    }
   ],
   "source": [
    "# Barplot de Star Rating\n",
    "SR_count = sent_df.groupby('Star Rating').count()\n",
    "plt.bar(SR_count.index.values, SR_count['Review Text'])\n",
    "plt.xlabel('Sentiments de la opinió')\n",
    "plt.ylabel(\"Nombre d'opinions\")\n",
    "plt.show()"
   ]
  },
  {
   "cell_type": "markdown",
   "metadata": {},
   "source": [
    "<span style='color:blue;font-size:16px'> Hi ha més opinions positives que negatives (considerant 3 com a neutre) </span>"
   ]
  },
  {
   "cell_type": "markdown",
   "metadata": {},
   "source": [
    "<span style='color:blue;font-size:20px'> <b> Métode Bag of Words </b> </span>"
   ]
  },
  {
   "cell_type": "code",
   "execution_count": 74,
   "metadata": {},
   "outputs": [],
   "source": [
    "# Es treuen els element no desitjats (símbols, números, etc)\n",
    "token = RegexpTokenizer(r'[a-zA-Z0-9]+')\n",
    "cv = CountVectorizer(lowercase=True,stop_words=set(stopwords.words(\"spanish\")),ngram_range = (1,1),tokenizer = token.tokenize)\n",
    "text_counts= cv.fit_transform(sent_df['Review Text'])"
   ]
  },
  {
   "cell_type": "code",
   "execution_count": 77,
   "metadata": {},
   "outputs": [
    {
     "data": {
      "text/plain": [
       "((205, 411), (52, 411))"
      ]
     },
     "execution_count": 77,
     "metadata": {},
     "output_type": "execute_result"
    }
   ],
   "source": [
    "# Mostra d'entrenament i mostra de prova\n",
    "X_train, X_test, y_train, y_test = train_test_split(text_counts, sent_df['Star Rating'], test_size=0.2, random_state=3)\n",
    "X_train.shape, X_test.shape"
   ]
  },
  {
   "cell_type": "code",
   "execution_count": 78,
   "metadata": {},
   "outputs": [
    {
     "name": "stdout",
     "output_type": "stream",
     "text": [
      "MultinomialNB Accuracy:  0.3076923076923077\n"
     ]
    }
   ],
   "source": [
    "# Generació del model utilitzant Multinomial Naive Bayes i avaluació\n",
    "MNV_model = MultinomialNB().fit(X_train, y_train)\n",
    "predicted= MNV_model.predict(X_test)\n",
    "print(\"MultinomialNB Accuracy: \", metrics.accuracy_score(y_test, predicted))"
   ]
  },
  {
   "cell_type": "markdown",
   "metadata": {},
   "source": [
    "<span style='color:blue;font-size:16px'> Amb aquest métode les prediccions són dolentes </span>"
   ]
  },
  {
   "cell_type": "markdown",
   "metadata": {},
   "source": [
    "<span style='color:blue;font-size:20px'> <b> Métode TF-IDF </b> </span>"
   ]
  },
  {
   "cell_type": "code",
   "execution_count": 81,
   "metadata": {},
   "outputs": [],
   "source": [
    "# Es normalitza la matriu de termes\n",
    "tf = TfidfVectorizer()\n",
    "text_tf = tf.fit_transform(sent_df['Review Text'])"
   ]
  },
  {
   "cell_type": "code",
   "execution_count": 84,
   "metadata": {},
   "outputs": [
    {
     "data": {
      "text/plain": [
       "((205, 468), (52, 468))"
      ]
     },
     "execution_count": 84,
     "metadata": {},
     "output_type": "execute_result"
    }
   ],
   "source": [
    "# Muestra de entrenamiento y muestra de prueba\n",
    "X_train, X_test, y_train, y_test = train_test_split(text_tf, sent_df['Star Rating'], test_size=0.2, random_state=3)\n",
    "X_train.shape, X_test.shape"
   ]
  },
  {
   "cell_type": "code",
   "execution_count": 85,
   "metadata": {},
   "outputs": [
    {
     "name": "stdout",
     "output_type": "stream",
     "text": [
      "MultinomialNB Accuracy:  0.36538461538461536\n"
     ]
    }
   ],
   "source": [
    "# Generació del model utilitzant Multinomial Naive Bayes i avaluació\n",
    "MNV_model_2 = MultinomialNB().fit(X_train, y_train)\n",
    "predicted_2 = MNV_model_2.predict(X_test)\n",
    "print(\"MultinomialNB Accuracy: \", metrics.accuracy_score(y_test, predicted_2))"
   ]
  },
  {
   "cell_type": "markdown",
   "metadata": {},
   "source": [
    "<span style='color:blue;font-size:16px'> Amb aquest métode les prediccions són dolentes, però millor que en el cas anterior </span>"
   ]
  }
 ],
 "metadata": {
  "kernelspec": {
   "display_name": "Python 3",
   "language": "python",
   "name": "python3"
  },
  "language_info": {
   "codemirror_mode": {
    "name": "ipython",
    "version": 3
   },
   "file_extension": ".py",
   "mimetype": "text/x-python",
   "name": "python",
   "nbconvert_exporter": "python",
   "pygments_lexer": "ipython3",
   "version": "3.8.5"
  }
 },
 "nbformat": 4,
 "nbformat_minor": 4
}
